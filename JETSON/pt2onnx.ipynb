{
  "nbformat": 4,
  "nbformat_minor": 0,
  "metadata": {
    "colab": {
      "provenance": [],
      "gpuType": "T4",
      "collapsed_sections": [
        "sS7DbDMKfVZK"
      ]
    },
    "kernelspec": {
      "name": "python3",
      "display_name": "Python 3"
    },
    "language_info": {
      "name": "python"
    },
    "accelerator": "GPU"
  },
  "cells": [
    {
      "cell_type": "markdown",
      "source": [
        "# CREATING ONNX FILE"
      ],
      "metadata": {
        "id": "rUO4n-F_hmJt"
      }
    },
    {
      "cell_type": "code",
      "execution_count": null,
      "metadata": {
        "id": "JiKFMDAugDOd"
      },
      "outputs": [],
      "source": [
        "\n",
        "# Step 1: Install required libraries\n",
        "!pip install -q open_clip_torch onnx onnxruntime\n",
        "\n",
        "# It's good practice to import after installation\n",
        "import open_clip\n",
        "import torch\n",
        "import onnx\n",
        "import onnxruntime\n",
        "import numpy as np\n",
        "import os"
      ]
    },
    {
      "cell_type": "code",
      "source": [
        "import torch\n",
        "import torch.nn as nn\n",
        "from transformers import CLIPModel, CLIPProcessor\n",
        "from PIL import Image\n",
        "import onnx\n",
        "import os\n",
        "\n",
        "# --- Step 1: Define Paths and Model ID ---\n",
        "MODEL_ID = \"wkcn/TinyCLIP-ViT-61M-32-Text-29M-LAION400M\"\n",
        "WEIGHTS_PATH = '/content/finetuned_tinyclip_multilabel.pt' # Make sure this path is correct\n",
        "device = \"cuda\" if torch.cuda.is_available() else \"cpu\"\n",
        "\n",
        "# --- Step 2: Load Model and Processor ---\n",
        "print(\"Loading model and processor...\")\n",
        "model = CLIPModel.from_pretrained(MODEL_ID).to(device)\n",
        "model.load_state_dict(torch.load(WEIGHTS_PATH, map_location=device))\n",
        "model.eval()\n",
        "\n",
        "processor = CLIPProcessor.from_pretrained(MODEL_ID)\n",
        "print(\"✅ Model and processor loaded.\")\n",
        "\n",
        "# --- Step 3: Create a Wrapper Model that includes the Projection Head ---\n",
        "class CompleteVisionModel(nn.Module):\n",
        "    def __init__(self, clip_model):\n",
        "        super().__init__()\n",
        "        self.vision_model = clip_model.vision_model\n",
        "        self.visual_projection = clip_model.visual_projection\n",
        "\n",
        "    def forward(self, pixel_values):\n",
        "        # Get the intermediate output from the main vision model\n",
        "        outputs = self.vision_model(pixel_values=pixel_values)\n",
        "        pooled_output = outputs.pooler_output\n",
        "\n",
        "        # Apply the final projection layer\n",
        "        image_features = self.visual_projection(pooled_output)\n",
        "        return image_features\n",
        "\n",
        "# Instantiate the complete model\n",
        "complete_vision_model_to_export = CompleteVisionModel(model).to(device)\n",
        "complete_vision_model_to_export.eval()\n",
        "print(\"✅ Created a complete vision model wrapper.\")\n",
        "\n",
        "# --- Step 4: Create a Correct Dummy Input ---\n",
        "print(\"Creating a correctly preprocessed dummy input...\")\n",
        "dummy_pil_image = Image.new('RGB', (224, 224))\n",
        "inputs = processor(images=dummy_pil_image, return_tensors=\"pt\").to(device)\n",
        "dummy_input = inputs['pixel_values']\n",
        "\n",
        "# --- Step 5: Export the COMPLETE Vision Model to ONNX ---\n",
        "onnx_file_path = \"tinyclip_dynamic.onnx\"\n",
        "print(\"\\nExporting the complete vision model to ONNX...\")\n",
        "torch.onnx.export(\n",
        "    complete_vision_model_to_export,\n",
        "    dummy_input,\n",
        "    onnx_file_path,\n",
        "    export_params=True,\n",
        "    opset_version=14,\n",
        "    input_names=['input'],\n",
        "    output_names=['output'],\n",
        "    dynamic_axes={\n",
        "        'input': {0: 'batch_size'},\n",
        "        'output': {0: 'batch_size'}\n",
        "    }\n",
        ")\n",
        "\n",
        "print(f\"✅ Export complete: {onnx_file_path}\")"
      ],
      "metadata": {
        "id": "O6uLM1MZiyGP"
      },
      "execution_count": null,
      "outputs": []
    },
    {
      "cell_type": "code",
      "source": [],
      "metadata": {
        "id": "1VbX9n08nwA4"
      },
      "execution_count": null,
      "outputs": []
    }
  ]
}